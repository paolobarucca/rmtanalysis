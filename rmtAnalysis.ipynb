{
 "cells": [
  {
   "cell_type": "code",
   "execution_count": 45,
   "metadata": {
    "collapsed": false,
    "scrolled": true
   },
   "outputs": [
    {
     "data": {
      "image/png": "[encoded data removed]",
      "text/plain": [
       "<matplotlib.figure.Figure at 0x10fe4ebe0>"
      ]
     },
     "metadata": {},
     "output_type": "display_data"
    }
   ],
   "source": [
    "%matplotlib inline\n",
    "\n",
    "\n",
    "import numpy as np\n",
    "from numpy import linalg as LA\n",
    "import matplotlib.pyplot as plt\n",
    "\n",
    "nlen = 30\n",
    "timesteps = 100\n",
    "\n",
    "X = np.random.rand(nlen,timesteps)\n",
    "W = np.matmul(X,np.transpose(X))\n",
    "\n",
    "w, v = LA.eig(W)\n",
    "\n",
    "\n",
    "plt.hist(w, bins='auto')  # plt.hist passes it's arguments to np.histogram\n",
    "plt.title(\"Histogram with 'auto' bins\")\n",
    "plt.show()\n"
   ]
  },
  {
   "cell_type": "code",
   "execution_count": 40,
   "metadata": {
    "collapsed": false
   },
   "outputs": [
    {
     "data": {
      "text/plain": [
       "array([[ 5.21108416, -1.10910197, -0.27537367, -1.99058896, -0.29060941],\n",
       "       [ 5.53006271, -1.27705996, -0.17103359,  2.17776265,  0.19027707],\n",
       "       [ 5.57869019,  0.57407508,  0.89974504,  0.36343493, -1.58502887],\n",
       "       [ 5.6433794 ,  0.47374367,  1.2757714 , -0.56365331,  1.40815894],\n",
       "       [ 4.316772  ,  0.22738692, -1.3160653 ,  0.00671462,  0.29616388]])"
      ]
     },
     "execution_count": 40,
     "metadata": {},
     "output_type": "execute_result"
    }
   ],
   "source": []
  },
  {
   "cell_type": "code",
   "execution_count": 27,
   "metadata": {
    "collapsed": false
   },
   "outputs": [
    {
     "data": {
      "text/plain": [
       "array([[-0.46073674, -0.50833938, -0.13481753, -0.69666245, -0.16061878],\n",
       "       [-0.49673804, -0.50910728, -0.07495946,  0.69208875,  0.09723859],\n",
       "       [-0.45897791,  0.41032038,  0.31788841,  0.10702668, -0.71306992],\n",
       "       [-0.46872712,  0.30288544,  0.47324723, -0.15559824,  0.6636125 ],\n",
       "       [-0.33257653,  0.47148537, -0.80696303,  0.00301106,  0.12607936]])"
      ]
     },
     "execution_count": 27,
     "metadata": {},
     "output_type": "execute_result"
    }
   ],
   "source": [
    "v"
   ]
  },
  {
   "cell_type": "code",
   "execution_count": null,
   "metadata": {
    "collapsed": true
   },
   "outputs": [],
   "source": []
  }
 ],
 "metadata": {
  "kernelspec": {
   "display_name": "Python 3",
   "language": "python",
   "name": "python3"
  },
  "language_info": {
   "codemirror_mode": {
    "name": "ipython",
    "version": 3
   },
   "file_extension": ".py",
   "mimetype": "text/x-python",
   "name": "python",
   "nbconvert_exporter": "python",
   "pygments_lexer": "ipython3",
   "version": "3.5.2"
  }
 },
 "nbformat": 4,
 "nbformat_minor": 0
}
