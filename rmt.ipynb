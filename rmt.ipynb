
%matplotlib inline

import numpy as np
from numpy import linalg as LA
import matplotlib.pyplot as plt

nlen = 30
timesteps = 100

X = np.random.rand(nlen,timesteps)
W = np.matmul(X,np.transpose(X))

w, v = LA.eig(W)

plt.hist(w, bins='auto')  # plt.hist passes it's arguments to np.histogram
plt.title("Histogram with 'auto' bins")
plt.show()
